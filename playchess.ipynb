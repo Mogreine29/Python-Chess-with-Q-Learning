{
 "cells": [
  {
   "cell_type": "code",
   "execution_count": 1,
   "metadata": {},
   "outputs": [],
   "source": [
    "import random\n",
    "import chess\n",
    "import numpy as np\n",
    "import os\n",
    "import pickle"
   ]
  },
  {
   "cell_type": "code",
   "execution_count": 2,
   "metadata": {},
   "outputs": [],
   "source": [
    "#NE PAS EXECUTER SI UN FICHIER .txt AVEC LES ETATS POSSIBLES EXISTE DEJA. Cette étape peut prendre un certain temps à run quand on a >3 pièces. (10min pour 4 pièces)\n",
    "\n",
    "#Initialiser tous les états possibles en ayant 3 pièces sur le board\n",
    "boards = []\n",
    "for i in range(64):\n",
    "    for j in range(64):\n",
    "        for k in range(64):\n",
    "            b = chess.Board('8/8/8/8/8/8/8/8')\n",
    "            b.set_piece_at(chess.Square(k), chess.Piece(chess.KING, chess.BLACK))\n",
    "            b.set_piece_at(chess.Square(i), chess.Piece(chess.ROOK, chess.WHITE))\n",
    "            b.set_piece_at(chess.Square(j), chess.Piece(chess.KING, chess.WHITE))\n",
    "            # Vérifier que l'état de board est correct et il y a assez de pièces pour continuer la partie\n",
    "            if b.is_valid() and not b.is_insufficient_material():\n",
    "                boards.append(b)\n",
    "\n",
    "for i in range(64):\n",
    "    for j in range(64):\n",
    "            b = chess.Board('8/8/8/8/8/8/8/8')\n",
    "            b.set_piece_at(chess.Square(i), chess.Piece(chess.KING, chess.WHITE))\n",
    "            b.set_piece_at(chess.Square(j), chess.Piece(chess.KING, chess.BLACK))\n",
    "            # Vérifier que l'état de board est correct et il y a assez de pièces pour continuer la partie\n",
    "            if b.is_valid():\n",
    "                boards.append(b)"
   ]
  },
  {
   "cell_type": "code",
   "execution_count": null,
   "metadata": {},
   "outputs": [],
   "source": [
    "#Lire un fichier avec tous les états possibles précalculés\n",
    "boards = []\n",
    "\n",
    "with open('RKk_boards.txt', 'r') as filehandle:\n",
    "    for line in filehandle:\n",
    "        curr_place = line[:-1]\n",
    "        boards.append(chess.Board(line))"
   ]
  },
  {
   "cell_type": "code",
   "execution_count": 3,
   "metadata": {},
   "outputs": [],
   "source": [
    "#lire une qtable\n",
    "qtablefilename = 'qtableRKk.pkl'\n",
    "if os.path.exists(qtablefilename):\n",
    "    with open(qtablefilename, 'rb') as f:\n",
    "        q_table = pickle.load(f)"
   ]
  },
  {
   "cell_type": "code",
   "execution_count": null,
   "metadata": {},
   "outputs": [],
   "source": [
    "state = random.choice(boards)\n",
    "\n",
    "while not state.is_game_over():\n",
    "    action = list(state.legal_moves)[np.argmax(q_table[state.fen().split()[0]])]\n",
    "    ind = np.argmax(q_table[state.fen().split()[0]])\n",
    "    next_state = state.copy()\n",
    "    next_state.push(action)\n",
    "    if len(list(next_state.legal_moves)) > 0:\n",
    "        display(next_state)\n",
    "        #print(next_state)\n",
    "        print(\"Voici les coups licites:\")\n",
    "        print(\"-\".join([str(move) for move in next_state.legal_moves]))\n",
    "        choix = input()\n",
    "        while choix not in [str(move) for move in next_state.legal_moves]:\n",
    "            print(\"Veuillez choisir un move correct\")\n",
    "            print(\"Voici les coups licites:\")\n",
    "            print(\"-\".join([str(move) for move in next_state.legal_moves]))\n",
    "            print(\"Tapez g pour sortir.\")\n",
    "            choix = input()\n",
    "            if choix == 'g':\n",
    "                break\n",
    "        next_state.push(chess.Move.from_uci(choix))\n",
    "        print('===============')\n",
    "    else:\n",
    "        print(\"Vous avez perdu!\")\n",
    "        break\n",
    "    state = next_state.copy()\n",
    "\n",
    "display(state)\n",
    "#print(state)"
   ]
  }
 ],
 "metadata": {
  "kernelspec": {
   "display_name": "Python 3",
   "language": "python",
   "name": "python3"
  },
  "language_info": {
   "codemirror_mode": {
    "name": "ipython",
    "version": 3
   },
   "file_extension": ".py",
   "mimetype": "text/x-python",
   "name": "python",
   "nbconvert_exporter": "python",
   "pygments_lexer": "ipython3",
   "version": "3.11.0"
  },
  "orig_nbformat": 4,
  "vscode": {
   "interpreter": {
    "hash": "259b5bebb4db0b35f64220d25350edbc1982c9b7a701e78b1bc2f7ce7878eeee"
   }
  }
 },
 "nbformat": 4,
 "nbformat_minor": 2
}
